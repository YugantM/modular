{
 "cells": [
  {
   "cell_type": "code",
   "execution_count": 1,
   "metadata": {},
   "outputs": [],
   "source": [
    "import json"
   ]
  },
  {
   "cell_type": "code",
   "execution_count": 54,
   "metadata": {},
   "outputs": [],
   "source": [
    "from collections import Counter"
   ]
  },
  {
   "cell_type": "code",
   "execution_count": 70,
   "metadata": {},
   "outputs": [],
   "source": [
    "with open('data.json', encoding='utf-8') as fh:\n",
    "    data = json.load(fh)\n",
    "\n"
   ]
  },
  {
   "cell_type": "code",
   "execution_count": 56,
   "metadata": {},
   "outputs": [],
   "source": [
    "def unique_or_not(json):\n",
    "    keys = list(json.keys())\n",
    "    tables = []\n",
    "    \n",
    "    for key in keys:\n",
    "        \n",
    "        tables.append(json[key]['table'])\n",
    "        \n",
    "    if len(Counter(tables).values())>1:\n",
    "        return False\n",
    "    else:\n",
    "        return True\n",
    "\n",
    "    return 0\n"
   ]
  },
  {
   "cell_type": "code",
   "execution_count": 73,
   "metadata": {},
   "outputs": [
    {
     "name": "stdout",
     "output_type": "stream",
     "text": [
      "hi\n"
     ]
    }
   ],
   "source": [
    "keywords = [\"select\",\"from\",\"join\",\"on\",\"where\"]\n",
    "query = \"\"\n",
    "\n",
    "\n",
    "if unique_or_not(data):\n",
    "    query = query + str(keywords[0]) + \" \"\n",
    "    for key in data.keys():\n",
    "        if keys.index(key)>=len(keys)-1:\n",
    "            query = query + str(data[key]['column']) + \" \"\n",
    "        else:\n",
    "            query = query + str(data[key]['column']) + \",\"\n",
    "    \n",
    "    query = query + str(keywords[1]) +\" \"+ str(data[key]['table']) + \";\"\n",
    "    \n",
    "    print(query)\n",
    "\n",
    "else:\n",
    "    print(\"hi\")\n",
    "    query = query + str(keywords[0]) + \" \"\n",
    "    \n",
    "    \n",
    "    \n",
    "    \n",
    "    \n",
    "    \n",
    "    "
   ]
  },
  {
   "cell_type": "code",
   "execution_count": null,
   "metadata": {},
   "outputs": [],
   "source": []
  },
  {
   "cell_type": "code",
   "execution_count": null,
   "metadata": {},
   "outputs": [],
   "source": []
  },
  {
   "cell_type": "code",
   "execution_count": null,
   "metadata": {},
   "outputs": [],
   "source": []
  },
  {
   "cell_type": "code",
   "execution_count": null,
   "metadata": {},
   "outputs": [],
   "source": []
  },
  {
   "cell_type": "code",
   "execution_count": null,
   "metadata": {},
   "outputs": [],
   "source": []
  },
  {
   "cell_type": "code",
   "execution_count": null,
   "metadata": {},
   "outputs": [],
   "source": []
  }
 ],
 "metadata": {
  "kernelspec": {
   "display_name": "Python 3",
   "language": "python",
   "name": "python3"
  },
  "language_info": {
   "codemirror_mode": {
    "name": "ipython",
    "version": 3
   },
   "file_extension": ".py",
   "mimetype": "text/x-python",
   "name": "python",
   "nbconvert_exporter": "python",
   "pygments_lexer": "ipython3",
   "version": "3.7.4"
  }
 },
 "nbformat": 4,
 "nbformat_minor": 2
}
