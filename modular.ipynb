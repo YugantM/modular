{
 "cells": [
  {
   "cell_type": "code",
   "execution_count": 30,
   "metadata": {},
   "outputs": [],
   "source": [
    "import json"
   ]
  },
  {
   "cell_type": "code",
   "execution_count": 3,
   "metadata": {},
   "outputs": [],
   "source": [
    "from collections import Counter"
   ]
  },
  {
   "cell_type": "code",
   "execution_count": 4,
   "metadata": {},
   "outputs": [],
   "source": [
    "import pandas as pd"
   ]
  },
  {
   "cell_type": "code",
   "execution_count": 7,
   "metadata": {},
   "outputs": [],
   "source": [
    "with open('main.json', encoding='utf-8') as fh:\n",
    "    data = json.load(fh)\n",
    "\n"
   ]
  },
  {
   "cell_type": "code",
   "execution_count": 31,
   "metadata": {
    "scrolled": true
   },
   "outputs": [
    {
     "data": {
      "text/plain": [
       "{'account': {'condition': 'and',\n",
       "  'rules': [{'field': 'age', 'operator': '<=', 'entity': 'physical'},\n",
       "   {'field': 'birthday',\n",
       "    'operator': '=',\n",
       "    'value': '2020-04-06T12:23:29.201Z',\n",
       "    'entity': 'nonphysical'},\n",
       "   {'condition': 'or',\n",
       "    'rules': [{'field': 'gender', 'operator': '=', 'entity': 'physical'},\n",
       "     {'field': 'occupation', 'operator': 'in', 'entity': 'nonphysical'},\n",
       "     {'field': 'school', 'operator': 'is null', 'entity': 'nonphysical'},\n",
       "     {'field': 'notes', 'operator': '=', 'entity': 'nonphysical'},\n",
       "     {'condition': 'and', 'rules': []}]}]},\n",
       " 'customer': {'condition': 'and',\n",
       "  'rules': [{'field': 'age', 'operator': '<=', 'entity': 'physical'},\n",
       "   {'field': 'birthday',\n",
       "    'operator': '=',\n",
       "    'value': '2020-04-06T12:23:29.201Z',\n",
       "    'entity': 'nonphysical'},\n",
       "   {'condition': 'or',\n",
       "    'rules': [{'field': 'gender', 'operator': '=', 'entity': 'physical'},\n",
       "     {'field': 'occupation', 'operator': 'in', 'entity': 'nonphysical'},\n",
       "     {'field': 'school', 'operator': 'is null', 'entity': 'nonphysical'},\n",
       "     {'field': 'notes', 'operator': '=', 'entity': 'nonphysical'},\n",
       "     {'condition': 'and', 'rules': []}]}]}}"
      ]
     },
     "execution_count": 31,
     "metadata": {},
     "output_type": "execute_result"
    }
   ],
   "source": [
    "data"
   ]
  },
  {
   "cell_type": "code",
   "execution_count": 32,
   "metadata": {},
   "outputs": [
    {
     "name": "stdout",
     "output_type": "stream",
     "text": [
      "['condition', 'rules']\n",
      "hi\n",
      "['condition', 'rules']\n",
      "hi\n"
     ]
    },
    {
     "ename": "KeyboardInterrupt",
     "evalue": "",
     "output_type": "error",
     "traceback": [
      "\u001b[0;31m---------------------------------------------------------------------------\u001b[0m",
      "\u001b[0;31mKeyboardInterrupt\u001b[0m                         Traceback (most recent call last)",
      "\u001b[0;32m<ipython-input-32-eb95a6155b4a>\u001b[0m in \u001b[0;36m<module>\u001b[0;34m\u001b[0m\n\u001b[1;32m      6\u001b[0m \u001b[0;34m\u001b[0m\u001b[0m\n\u001b[1;32m      7\u001b[0m     \u001b[0;32mwhile\u001b[0m \u001b[0;34m\"condition\"\u001b[0m \u001b[0;32min\u001b[0m \u001b[0mlist\u001b[0m\u001b[0;34m(\u001b[0m\u001b[0mtemp\u001b[0m\u001b[0;34m.\u001b[0m\u001b[0mkeys\u001b[0m\u001b[0;34m(\u001b[0m\u001b[0;34m)\u001b[0m\u001b[0;34m)\u001b[0m\u001b[0;34m:\u001b[0m\u001b[0;34m\u001b[0m\u001b[0;34m\u001b[0m\u001b[0m\n\u001b[0;32m----> 8\u001b[0;31m         \u001b[0;32mif\u001b[0m \u001b[0mlen\u001b[0m\u001b[0;34m(\u001b[0m\u001b[0mlist\u001b[0m\u001b[0;34m(\u001b[0m\u001b[0mtemp\u001b[0m\u001b[0;34m[\u001b[0m\u001b[0;34m\"rules\"\u001b[0m\u001b[0;34m]\u001b[0m\u001b[0;34m)\u001b[0m\u001b[0;34m)\u001b[0m\u001b[0;34m>\u001b[0m\u001b[0;36m0\u001b[0m\u001b[0;34m:\u001b[0m\u001b[0;34m\u001b[0m\u001b[0;34m\u001b[0m\u001b[0m\n\u001b[0m\u001b[1;32m      9\u001b[0m \u001b[0;34m\u001b[0m\u001b[0m\n\u001b[1;32m     10\u001b[0m             \u001b[0mprint\u001b[0m\u001b[0;34m(\u001b[0m\u001b[0mlist\u001b[0m\u001b[0;34m(\u001b[0m\u001b[0mtemp\u001b[0m\u001b[0;34m[\u001b[0m\u001b[0;34m\"rules\"\u001b[0m\u001b[0;34m]\u001b[0m\u001b[0;34m[\u001b[0m\u001b[0;34m-\u001b[0m\u001b[0;36m1\u001b[0m\u001b[0;34m]\u001b[0m\u001b[0;34m.\u001b[0m\u001b[0mkeys\u001b[0m\u001b[0;34m(\u001b[0m\u001b[0;34m)\u001b[0m\u001b[0;34m)\u001b[0m\u001b[0;34m)\u001b[0m\u001b[0;34m\u001b[0m\u001b[0;34m\u001b[0m\u001b[0m\n",
      "\u001b[0;31mKeyboardInterrupt\u001b[0m: "
     ]
    }
   ],
   "source": [
    "for table in list(data.keys()):\n",
    "#    print(table)\n",
    "    \n",
    "    temp = data[table]\n",
    "    \n",
    "    \n",
    "    while \"condition\" in list(temp.keys()):\n",
    "        if len(list(temp[\"rules\"]))>0:\n",
    "            \n",
    "            print(list(temp[\"rules\"][-1].keys()))\n",
    "            \n",
    "            if \"condition\" in list(temp[\"rules\"][-1].keys()):\n",
    "                print(\"hi\")\n",
    "                temp = temp['rules'][-1]\n",
    "            else:\n",
    "                print(\"out\")\n",
    "        \n",
    "    \n",
    "\"\"\"    while \"condition\" in list(sub.keys()) and len(sub[\"rules\"])!=0:\n",
    "        \n",
    "        if \"condition\"in list(sub[\"rules\"][-1].keys()):\n",
    "            print(\"yes\")\n",
    "        else:\n",
    "            break\"\"\""
   ]
  },
  {
   "cell_type": "code",
   "execution_count": null,
   "metadata": {},
   "outputs": [],
   "source": []
  },
  {
   "cell_type": "code",
   "execution_count": null,
   "metadata": {},
   "outputs": [],
   "source": []
  },
  {
   "cell_type": "code",
   "execution_count": null,
   "metadata": {},
   "outputs": [],
   "source": []
  }
 ],
 "metadata": {
  "kernelspec": {
   "display_name": "Python 3",
   "language": "python",
   "name": "python3"
  },
  "language_info": {
   "codemirror_mode": {
    "name": "ipython",
    "version": 3
   },
   "file_extension": ".py",
   "mimetype": "text/x-python",
   "name": "python",
   "nbconvert_exporter": "python",
   "pygments_lexer": "ipython3",
   "version": "3.7.4"
  }
 },
 "nbformat": 4,
 "nbformat_minor": 2
}
