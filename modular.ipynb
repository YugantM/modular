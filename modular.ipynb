{
 "cells": [
  {
   "cell_type": "code",
   "execution_count": 1,
   "metadata": {},
   "outputs": [],
   "source": [
    "import json"
   ]
  },
  {
   "cell_type": "code",
   "execution_count": 2,
   "metadata": {},
   "outputs": [],
   "source": [
    "from collections import Counter"
   ]
  },
  {
   "cell_type": "code",
   "execution_count": 3,
   "metadata": {},
   "outputs": [],
   "source": [
    "import pandas as pd"
   ]
  },
  {
   "cell_type": "code",
   "execution_count": 9,
   "metadata": {},
   "outputs": [],
   "source": [
    "with open('example_1.json', encoding='utf-8') as fh:\n",
    "    data1 = json.load(fh)\n",
    "\n"
   ]
  },
  {
   "cell_type": "code",
   "execution_count": 10,
   "metadata": {},
   "outputs": [],
   "source": [
    "with open('example_2.json', encoding='utf-8') as fh:\n",
    "    data2 = json.load(fh)\n",
    "\n"
   ]
  },
  {
   "cell_type": "code",
   "execution_count": 11,
   "metadata": {},
   "outputs": [],
   "source": [
    "lista = [data1,data2]"
   ]
  },
  {
   "cell_type": "code",
   "execution_count": 12,
   "metadata": {},
   "outputs": [
    {
     "ename": "KeyError",
     "evalue": "'lable'",
     "output_type": "error",
     "traceback": [
      "\u001b[0;31m---------------------------------------------------------------------------\u001b[0m",
      "\u001b[0;31mKeyError\u001b[0m                                  Traceback (most recent call last)",
      "\u001b[0;32m<ipython-input-12-1b64ecb9eb5a>\u001b[0m in \u001b[0;36m<module>\u001b[0;34m\u001b[0m\n\u001b[1;32m     17\u001b[0m     \u001b[0mquery\u001b[0m \u001b[0;34m+=\u001b[0m \u001b[0mdata\u001b[0m\u001b[0;34m[\u001b[0m\u001b[0;34m\"table\"\u001b[0m\u001b[0;34m]\u001b[0m\u001b[0;34m\u001b[0m\u001b[0;34m\u001b[0m\u001b[0m\n\u001b[1;32m     18\u001b[0m     \u001b[0mquery\u001b[0m \u001b[0;34m+=\u001b[0m \u001b[0;34m\" as \"\u001b[0m\u001b[0;34m\u001b[0m\u001b[0;34m\u001b[0m\u001b[0m\n\u001b[0;32m---> 19\u001b[0;31m     \u001b[0mquery\u001b[0m \u001b[0;34m+=\u001b[0m \u001b[0mdata\u001b[0m\u001b[0;34m[\u001b[0m\u001b[0;34m\"lable\"\u001b[0m\u001b[0;34m]\u001b[0m\u001b[0;34m\u001b[0m\u001b[0;34m\u001b[0m\u001b[0m\n\u001b[0m\u001b[1;32m     20\u001b[0m     \u001b[0mquery\u001b[0m \u001b[0;34m+=\u001b[0m \u001b[0;34m\" \"\u001b[0m\u001b[0;34m\u001b[0m\u001b[0;34m\u001b[0m\u001b[0m\n\u001b[1;32m     21\u001b[0m     \u001b[0mquery\u001b[0m \u001b[0;34m+=\u001b[0m \u001b[0mkeywords\u001b[0m\u001b[0;34m[\u001b[0m\u001b[0;36m2\u001b[0m\u001b[0;34m]\u001b[0m\u001b[0;34m\u001b[0m\u001b[0;34m\u001b[0m\u001b[0m\n",
      "\u001b[0;31mKeyError\u001b[0m: 'lable'"
     ]
    }
   ],
   "source": [
    "queries = []\n",
    "for data in lista:\n",
    "    keywords = [\"select\",\"from\",\"where\",\"join\",\"on\",'not in','group by']\n",
    "    columns = [each[\"field\"] for each in data[\"rules\"]]\n",
    "    query= \"\"\n",
    "    query += keywords[0]\n",
    "    query += \" \"\n",
    "\n",
    "    for each in columns:\n",
    "        if columns.index(each)<len(columns)-1:       \n",
    "            query = query + each +\",\"\n",
    "        else:\n",
    "            query = query + each +\" \"\n",
    "\n",
    "    query += keywords[1]\n",
    "    query += \" \"\n",
    "    query += data[\"table\"]\n",
    "    query += \" as \"\n",
    "    query += data[\"lable\"]\n",
    "    query += \" \"\n",
    "    query += keywords[2]\n",
    "    query += \" \"\n",
    "    \n",
    "    \n",
    "    # adding rules\n",
    "    for each in data['rules']:\n",
    "        if data['rules'].index(each)!= len(data['rules'])-1:\n",
    "            query = query + each[\"field\"] + each[\"operator\"] +each[\"value\"]  + \" \" +str(data[\"condition\"]).upper()+ \" \"\n",
    "        else:\n",
    "            query = query + each[\"field\"] + each[\"operator\"] +each[\"value\"]  + \" \" \n",
    "\n",
    "    queries.append(query)"
   ]
  },
  {
   "cell_type": "code",
   "execution_count": 8,
   "metadata": {},
   "outputs": [
    {
     "data": {
      "text/plain": [
       "['select age,birthday from student as a where age<=50 AND birthday=2020-04-05T11:25:29.315Z ',\n",
       " 'select science,maths from score as b where science<=50 AND maths=10 ']"
      ]
     },
     "execution_count": 8,
     "metadata": {},
     "output_type": "execute_result"
    }
   ],
   "source": [
    "queries"
   ]
  },
  {
   "cell_type": "code",
   "execution_count": null,
   "metadata": {},
   "outputs": [],
   "source": []
  },
  {
   "cell_type": "code",
   "execution_count": null,
   "metadata": {},
   "outputs": [],
   "source": []
  }
 ],
 "metadata": {
  "kernelspec": {
   "display_name": "Python 3",
   "language": "python",
   "name": "python3"
  },
  "language_info": {
   "codemirror_mode": {
    "name": "ipython",
    "version": 3
   },
   "file_extension": ".py",
   "mimetype": "text/x-python",
   "name": "python",
   "nbconvert_exporter": "python",
   "pygments_lexer": "ipython3",
   "version": "3.7.4"
  }
 },
 "nbformat": 4,
 "nbformat_minor": 2
}
