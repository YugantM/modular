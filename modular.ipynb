{
 "cells": [
  {
   "cell_type": "code",
   "execution_count": 145,
   "metadata": {},
   "outputs": [],
   "source": [
    "import json"
   ]
  },
  {
   "cell_type": "code",
   "execution_count": 146,
   "metadata": {},
   "outputs": [],
   "source": [
    "from collections import Counter"
   ]
  },
  {
   "cell_type": "code",
   "execution_count": 147,
   "metadata": {},
   "outputs": [],
   "source": [
    "import pandas as pd"
   ]
  },
  {
   "cell_type": "code",
   "execution_count": 148,
   "metadata": {},
   "outputs": [],
   "source": [
    "with open('main.json', encoding='utf-8') as fh:\n",
    "    data = json.load(fh)\n"
   ]
  },
  {
   "cell_type": "code",
   "execution_count": 149,
   "metadata": {},
   "outputs": [
    {
     "name": "stdout",
     "output_type": "stream",
     "text": [
      "      table condition     field operator                         value\n",
      "0   account       AND  birthday        =  \"\"2020-04-06T12:23:29.201Z\"\"\n",
      "1   account        OR    gender        =                      \"\"male\"\"\n",
      "2   account        OR     notes        =                     \"\"false\"\"\n",
      "3  customer       AND  birthday        =    \"2020-04-06T12:23:29.201Z\"\n"
     ]
    }
   ],
   "source": [
    "#defining columns\n",
    "cols =[\"table\",\"condition\",\"field\",\"operator\",\"value\"]\n",
    "#creating main dataframe for back-end\n",
    "main_frame = pd.DataFrame(columns=cols)\n",
    "\n",
    "#loop through all the main-keys(tables) from the JSON recieved\n",
    "\n",
    "for each_key in list(data.keys()):\n",
    "    \n",
    "    #sample is variable which holds the value from the given key \n",
    "    #updated as loop goes through the JSON tree\n",
    "    sample = data[each_key]\n",
    "    \n",
    "    #loop for travelling through tree structure/ tunneling down\n",
    "    while 1>0:\n",
    "        \n",
    "        #checks if the sample has list of rules or not\n",
    "        if len(sample['rules'])>0:\n",
    "            \n",
    "            #checks if key named \"rules\" available or not in the sample\n",
    "            if 'rules' in list(sample.keys()):\n",
    "                 \n",
    "                #loop for interation on list of rules, except the last value as it is for new dictionary within JSON(branching)    \n",
    "                for each in sample['rules'][:-1]:\n",
    "                    \n",
    "                    #checks if key named \"value\" available or not in the sample\n",
    "                    if \"value\" in list(each.keys()):\n",
    "                        \n",
    "                        #this temp dataframe is created as one row to append to the main dataframe\n",
    "                        temp = pd.DataFrame([[str(each_key),\n",
    "                                              str(sample['condition']),\n",
    "                                              str(each['field']),\n",
    "                                              str(each['operator']),\n",
    "                                              str(each['value'])\n",
    "                                             ]],\n",
    "                                            columns=cols)\n",
    "\n",
    "                        #appending temp dataframe to main dataframe\n",
    "                        main_frame = main_frame.append(temp,ignore_index=True,verify_integrity=True)\n",
    "\n",
    "                \n",
    "                #updating current sample to new sample/ tunneling down\n",
    "                sample = list(sample['rules'])[-1]\n",
    "        \n",
    "        #if current sample does not have list of rules it breaks the tunneling loop\n",
    "        else:\n",
    "            #adding \"\" to the values\n",
    "            main_frame['value'] = \"\\\"\" + main_frame['value'] + \"\\\"\"\n",
    "            #converting all the conditions to uppercase\n",
    "            main_frame['condition'] = main_frame['condition'].str.upper()\n",
    "            break\n",
    "                        \n",
    "print(main_frame)"
   ]
  },
  {
   "cell_type": "code",
   "execution_count": 150,
   "metadata": {},
   "outputs": [
    {
     "data": {
      "text/html": [
       "<div>\n",
       "<style scoped>\n",
       "    .dataframe tbody tr th:only-of-type {\n",
       "        vertical-align: middle;\n",
       "    }\n",
       "\n",
       "    .dataframe tbody tr th {\n",
       "        vertical-align: top;\n",
       "    }\n",
       "\n",
       "    .dataframe thead th {\n",
       "        text-align: right;\n",
       "    }\n",
       "</style>\n",
       "<table border=\"1\" class=\"dataframe\">\n",
       "  <thead>\n",
       "    <tr style=\"text-align: right;\">\n",
       "      <th></th>\n",
       "      <th>table</th>\n",
       "      <th>reference</th>\n",
       "    </tr>\n",
       "  </thead>\n",
       "  <tbody>\n",
       "    <tr>\n",
       "      <th>0</th>\n",
       "      <td>account</td>\n",
       "      <td>a</td>\n",
       "    </tr>\n",
       "    <tr>\n",
       "      <th>1</th>\n",
       "      <td>customer</td>\n",
       "      <td>b</td>\n",
       "    </tr>\n",
       "  </tbody>\n",
       "</table>\n",
       "</div>"
      ],
      "text/plain": [
       "      table reference\n",
       "0   account         a\n",
       "1  customer         b"
      ]
     },
     "execution_count": 150,
     "metadata": {},
     "output_type": "execute_result"
    }
   ],
   "source": [
    "#Labelling the tables\n",
    "#defining columns\n",
    "cols =[\"table\",\"reference\"]\n",
    "#creating labelld tables list for back-end\n",
    "labelld_tables = pd.DataFrame(columns=cols)\n",
    "\n",
    "#copying table names from main_frame and removing the duplicates and reseting index\n",
    "labelld_tables[\"table\"] = main_frame['table'].drop_duplicates()\n",
    "labelld_tables.reset_index(drop=True,inplace=True)\n",
    "\n",
    "#asigning each table an alphabate \n",
    "for each_table in list(labelld_tables['table'].index):\n",
    "    \n",
    "    if each_table>122:\n",
    "        #write an error message here\n",
    "        break\n",
    "    labelld_tables['reference'].iloc[each_table] = chr(each_table+97)\n",
    "\n",
    "    \n",
    "labelld_tables"
   ]
  },
  {
   "cell_type": "code",
   "execution_count": 151,
   "metadata": {},
   "outputs": [
    {
     "name": "stdout",
     "output_type": "stream",
     "text": [
      "Generated Query:\n",
      "SELECT birthday,gender,notes FROM account WHERE  birthday = \"2020-04-06T12:23:29.201Z\" OR gender = \"male\" OR notes = \"false\";;;;;\n"
     ]
    }
   ],
   "source": [
    "# checking if there is only one table available for query\n",
    "if len(data.keys())<=1:\n",
    "    \n",
    "    #this is a part of the query, it contains name of tables separated by coma\n",
    "    col_list = \"\"\n",
    "\n",
    "    #list of keywords which can be used in query\n",
    "    keywords = [\"SELECT \",\" FROM \",\" WHERE \"]\n",
    "    \n",
    "    #starting the query with \"select\"\n",
    "    query = keywords[0]\n",
    "    \n",
    "    #loop to append column names to col_list\n",
    "    for column in main_frame['field']:\n",
    "        col_list = col_list + str(column) + \",\"\n",
    "\n",
    "    #removing the last coma from the col_list\n",
    "    col_list = col_list[:-1]\n",
    "    \n",
    "    #adding other kwywords and table name\n",
    "    query = query + col_list + keywords[1] + str(list(main_frame[\"table\"])[0]) + keywords[2]\n",
    "    \n",
    "    #loop to append conditions\n",
    "    for row_number in list(main_frame.index):\n",
    "        \n",
    "        if row_number==0:\n",
    "            for each in list(main_frame[['field','operator','value']].iloc[row_number]):\n",
    "                query = query + \" \"+ each\n",
    "        else:\n",
    "            for each in list(main_frame[['condition','field','operator','value']].iloc[row_number]):\n",
    "                query = query + \" \"+ each\n",
    "\n",
    "#ending query with \":\"\n",
    "query = query+ \";\"\n",
    "\n",
    "\n",
    "\n",
    "print(\"Generated Query:\"+\"\\n\"+query)"
   ]
  }
 ],
 "metadata": {
  "kernelspec": {
   "display_name": "Python 3",
   "language": "python",
   "name": "python3"
  },
  "language_info": {
   "codemirror_mode": {
    "name": "ipython",
    "version": 3
   },
   "file_extension": ".py",
   "mimetype": "text/x-python",
   "name": "python",
   "nbconvert_exporter": "python",
   "pygments_lexer": "ipython3",
   "version": "3.7.4"
  }
 },
 "nbformat": 4,
 "nbformat_minor": 2
}
