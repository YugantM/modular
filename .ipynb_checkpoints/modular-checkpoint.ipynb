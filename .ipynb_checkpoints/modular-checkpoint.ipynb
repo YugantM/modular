{
 "cells": [
  {
   "cell_type": "code",
   "execution_count": 1,
   "metadata": {},
   "outputs": [],
   "source": [
    "import json"
   ]
  },
  {
   "cell_type": "code",
   "execution_count": 2,
   "metadata": {},
   "outputs": [],
   "source": [
    "from collections import Counter"
   ]
  },
  {
   "cell_type": "code",
   "execution_count": 188,
   "metadata": {},
   "outputs": [],
   "source": [
    "import pandas as pd"
   ]
  },
  {
   "cell_type": "code",
   "execution_count": 145,
   "metadata": {},
   "outputs": [],
   "source": [
    "with open('main.json', encoding='utf-8') as fh:\n",
    "    data = json.load(fh)\n",
    "\n"
   ]
  },
  {
   "cell_type": "code",
   "execution_count": 196,
   "metadata": {},
   "outputs": [],
   "source": [
    "dframe = pd.DataFrame(columns=[\"table\",\"condition\",\"field\",\"operator\",\"value\"])"
   ]
  },
  {
   "cell_type": "code",
   "execution_count": 197,
   "metadata": {},
   "outputs": [
    {
     "data": {
      "text/html": [
       "<div>\n",
       "<style scoped>\n",
       "    .dataframe tbody tr th:only-of-type {\n",
       "        vertical-align: middle;\n",
       "    }\n",
       "\n",
       "    .dataframe tbody tr th {\n",
       "        vertical-align: top;\n",
       "    }\n",
       "\n",
       "    .dataframe thead th {\n",
       "        text-align: right;\n",
       "    }\n",
       "</style>\n",
       "<table border=\"1\" class=\"dataframe\">\n",
       "  <thead>\n",
       "    <tr style=\"text-align: right;\">\n",
       "      <th></th>\n",
       "      <th>table</th>\n",
       "      <th>condition</th>\n",
       "      <th>field</th>\n",
       "      <th>operator</th>\n",
       "      <th>value</th>\n",
       "    </tr>\n",
       "  </thead>\n",
       "  <tbody>\n",
       "  </tbody>\n",
       "</table>\n",
       "</div>"
      ],
      "text/plain": [
       "Empty DataFrame\n",
       "Columns: [table, condition, field, operator, value]\n",
       "Index: []"
      ]
     },
     "execution_count": 197,
     "metadata": {},
     "output_type": "execute_result"
    }
   ],
   "source": [
    "dframe"
   ]
  },
  {
   "cell_type": "code",
   "execution_count": 123,
   "metadata": {},
   "outputs": [
    {
     "name": "stdout",
     "output_type": "stream",
     "text": [
      "\n",
      "\n",
      " account\n",
      "and\n",
      "and\n",
      "yeah\n",
      "or\n",
      "or\n",
      "or\n",
      "or\n",
      "\n",
      "\n",
      " customer\n",
      "and\n",
      "and\n",
      "yeah\n",
      "or\n",
      "or\n",
      "or\n",
      "or\n",
      "Empty DataFrame\n",
      "Columns: [table, condition, field, operator, value]\n",
      "Index: []\n"
     ]
    }
   ],
   "source": [
    "for each_key in list(data.keys()):\n",
    "    sample = data[each_key]\n",
    "    \n",
    "    print(\"\\n\\n\",each_key)\n",
    "    while 1>0:\n",
    "        if len(sample['rules'])>0:\n",
    "            if 'rules' in list(sample.keys()):\n",
    "                #print(sample['rules'])\n",
    "                \n",
    "                for each in sample['rules'][:-1]:\n",
    "                    print(str(sample['condition']))\n",
    "                    if \"value\" in list(each.keys()):\n",
    "                        print(\"yeah\")\n",
    "                        dframe.append({\"table\":str(each_key),\"condition\":str(sample['condition']),\"field\":str(each['field']),\"operator\":str(each['operator']),\"value\":str(each['value'])},ignore_index=True)\n",
    "\n",
    "                \n",
    "\n",
    "                sample = list(sample['rules'])[-1]\n",
    "        else:\n",
    "            break\n",
    "            \n",
    "            \n",
    "print(dframe)"
   ]
  },
  {
   "cell_type": "code",
   "execution_count": 167,
   "metadata": {},
   "outputs": [],
   "source": [
    "cols =[\"table\",\"condition\",\"field\",\"operator\",\"value\"]"
   ]
  },
  {
   "cell_type": "code",
   "execution_count": 193,
   "metadata": {},
   "outputs": [
    {
     "name": "stdout",
     "output_type": "stream",
     "text": [
      "Empty DataFrame\n",
      "Columns: [table, condition, field, operator, value]\n",
      "Index: []\n"
     ]
    }
   ],
   "source": [
    "x = data['account']\n",
    "dic = {}\n",
    "\n",
    "for each in cols:\n",
    "\n",
    "    dic[each] = 5\n",
    "\n",
    "new_row = pd.Series(data=dic)\n",
    "\n",
    "dframe.append(dic,ignore_index=True)\n",
    "print(dframe)"
   ]
  },
  {
   "cell_type": "code",
   "execution_count": 203,
   "metadata": {},
   "outputs": [
    {
     "ename": "TypeError",
     "evalue": "append() got an unexpected keyword argument 'rowignore_index'",
     "output_type": "error",
     "traceback": [
      "\u001b[0;31m---------------------------------------------------------------------------\u001b[0m",
      "\u001b[0;31mTypeError\u001b[0m                                 Traceback (most recent call last)",
      "\u001b[0;32m<ipython-input-203-431759241843>\u001b[0m in \u001b[0;36m<module>\u001b[0;34m\u001b[0m\n\u001b[1;32m      1\u001b[0m \u001b[0mrow\u001b[0m \u001b[0;34m=\u001b[0m \u001b[0mpd\u001b[0m\u001b[0;34m.\u001b[0m\u001b[0mSeries\u001b[0m\u001b[0;34m(\u001b[0m\u001b[0;34m[\u001b[0m\u001b[0;36m1\u001b[0m\u001b[0;34m,\u001b[0m\u001b[0;36m2\u001b[0m\u001b[0;34m,\u001b[0m\u001b[0;36m3\u001b[0m\u001b[0;34m,\u001b[0m\u001b[0;36m4\u001b[0m\u001b[0;34m,\u001b[0m\u001b[0;36m5\u001b[0m\u001b[0;34m]\u001b[0m\u001b[0;34m)\u001b[0m\u001b[0;34m\u001b[0m\u001b[0;34m\u001b[0m\u001b[0m\n\u001b[0;32m----> 2\u001b[0;31m \u001b[0mdframe\u001b[0m\u001b[0;34m.\u001b[0m\u001b[0mappend\u001b[0m\u001b[0;34m(\u001b[0m\u001b[0mrowignore_index\u001b[0m\u001b[0;34m=\u001b[0m\u001b[0;32mTrue\u001b[0m\u001b[0;34m)\u001b[0m\u001b[0;34m\u001b[0m\u001b[0;34m\u001b[0m\u001b[0m\n\u001b[0m",
      "\u001b[0;31mTypeError\u001b[0m: append() got an unexpected keyword argument 'rowignore_index'"
     ]
    }
   ],
   "source": [
    "row = pd.Series([1,2,3,4,5])\n",
    "dframe.append(row,ignore_index=True)"
   ]
  },
  {
   "cell_type": "code",
   "execution_count": null,
   "metadata": {},
   "outputs": [],
   "source": []
  }
 ],
 "metadata": {
  "kernelspec": {
   "display_name": "Python 3",
   "language": "python",
   "name": "python3"
  },
  "language_info": {
   "codemirror_mode": {
    "name": "ipython",
    "version": 3
   },
   "file_extension": ".py",
   "mimetype": "text/x-python",
   "name": "python",
   "nbconvert_exporter": "python",
   "pygments_lexer": "ipython3",
   "version": "3.7.4"
  }
 },
 "nbformat": 4,
 "nbformat_minor": 2
}
