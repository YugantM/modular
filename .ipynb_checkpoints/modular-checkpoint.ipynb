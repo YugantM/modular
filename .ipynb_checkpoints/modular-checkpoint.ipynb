{
 "cells": [
  {
   "cell_type": "code",
   "execution_count": 1,
   "metadata": {},
   "outputs": [],
   "source": [
    "import json"
   ]
  },
  {
   "cell_type": "code",
   "execution_count": 2,
   "metadata": {},
   "outputs": [],
   "source": [
    "from collections import Counter"
   ]
  },
  {
   "cell_type": "code",
   "execution_count": 3,
   "metadata": {},
   "outputs": [],
   "source": [
    "import pandas as pd"
   ]
  },
  {
   "cell_type": "code",
   "execution_count": 8,
   "metadata": {},
   "outputs": [],
   "source": [
    "with open('main.json', encoding='utf-8') as fh:\n",
    "    data = json.load(fh)\n"
   ]
  },
  {
   "cell_type": "code",
   "execution_count": 20,
   "metadata": {},
   "outputs": [
    {
     "name": "stdout",
     "output_type": "stream",
     "text": [
      "     table condition     field operator                     value\n",
      "0  account       and  birthday        =  2020-04-06T12:23:29.201Z\n",
      "1  account        or    gender        =                      male\n",
      "2  account        or     notes        =                     false\n"
     ]
    }
   ],
   "source": [
    "#defining columns\n",
    "cols =[\"table\",\"condition\",\"field\",\"operator\",\"value\"]\n",
    "#creating main dataframe for back-end\n",
    "main_frame = pd.DataFrame(columns=cols)\n",
    "\n",
    "#loop through all the main-keys(tables) from the JSON recieved\n",
    "\n",
    "for each_key in list(data.keys()):\n",
    "    \n",
    "    #sample is variable which holds the value from the given key \n",
    "    #updated as loop goes through the JSON tree\n",
    "    sample = data[each_key]\n",
    "    \n",
    "    #loop for travelling through tree structure/ tunneling down\n",
    "    while 1>0:\n",
    "        \n",
    "        #checks if the sample has list of rules or not\n",
    "        if len(sample['rules'])>0:\n",
    "            \n",
    "            #checks if key named \"rules\" available or not in the sample\n",
    "            if 'rules' in list(sample.keys()):\n",
    "                 \n",
    "                #loop for interation on list of rules, except the last value as it is for new dictionary within JSON(branching)    \n",
    "                for each in sample['rules'][:-1]:\n",
    "                    \n",
    "                    #checks if key named \"value\" available or not in the sample\n",
    "                    if \"value\" in list(each.keys()):\n",
    "                        \n",
    "                        #this temp dataframe is created as one row to append to the main dataframe\n",
    "                        temp = pd.DataFrame([[str(each_key),\n",
    "                                              str(sample['condition']),\n",
    "                                              str(each['field']),\n",
    "                                              str(each['operator']),\n",
    "                                              str(each['value'])\n",
    "                                             ]],\n",
    "                                            columns=cols)\n",
    "\n",
    "                        #appending temp dataframe to main dataframe\n",
    "                        main_frame = main_frame.append(temp,ignore_index=True,verify_integrity=True)\n",
    "\n",
    "                \n",
    "                #updating current sample to new sample/ tunneling down\n",
    "                sample = list(sample['rules'])[-1]\n",
    "        \n",
    "        #if current sample does not have list of rules it breaks the tunneling loop\n",
    "        else:\n",
    "            break\n",
    "                        \n",
    "print(main_frame)"
   ]
  },
  {
   "cell_type": "code",
   "execution_count": 28,
   "metadata": {},
   "outputs": [
    {
     "name": "stdout",
     "output_type": "stream",
     "text": [
      "birthday,gender,notes,notes\n"
     ]
    }
   ],
   "source": [
    "if len(data.keys())<=1:\n",
    "    main_frame\n",
    "    query = \"\"\n",
    "    col_list = \"\"\n",
    "    keywords = [\"select\",\"from\",\"where\"]\n",
    "    \n",
    "    \n",
    "    for column in main_frame['field']:\n",
    "        \n",
    "        if column == list(main_frame['field'])[-1]:\n",
    "            col_list = col_list + str(column) \n",
    "        else:\n",
    "            col_list = col_list + str(column) + ','\n",
    "    \n",
    "    print(col_list)\n",
    "    \n",
    "    \n",
    "        "
   ]
  },
  {
   "cell_type": "code",
   "execution_count": 26,
   "metadata": {},
   "outputs": [
    {
     "data": {
      "text/plain": [
       "['birthday', 'gender']"
      ]
     },
     "execution_count": 26,
     "metadata": {},
     "output_type": "execute_result"
    }
   ],
   "source": [
    "list(main_frame['field'])[:-1]"
   ]
  }
 ],
 "metadata": {
  "kernelspec": {
   "display_name": "Python 3",
   "language": "python",
   "name": "python3"
  },
  "language_info": {
   "codemirror_mode": {
    "name": "ipython",
    "version": 3
   },
   "file_extension": ".py",
   "mimetype": "text/x-python",
   "name": "python",
   "nbconvert_exporter": "python",
   "pygments_lexer": "ipython3",
   "version": "3.7.4"
  }
 },
 "nbformat": 4,
 "nbformat_minor": 2
}
