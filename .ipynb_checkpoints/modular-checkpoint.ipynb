{
 "cells": [
  {
   "cell_type": "code",
   "execution_count": 2,
   "metadata": {},
   "outputs": [],
   "source": [
    "import json"
   ]
  },
  {
   "cell_type": "code",
   "execution_count": 3,
   "metadata": {},
   "outputs": [],
   "source": [
    "from collections import Counter"
   ]
  },
  {
   "cell_type": "code",
   "execution_count": 4,
   "metadata": {},
   "outputs": [],
   "source": [
    "import pandas as pd"
   ]
  },
  {
   "cell_type": "code",
   "execution_count": 7,
   "metadata": {},
   "outputs": [],
   "source": [
    "with open('main.json', encoding='utf-8') as fh:\n",
    "    data = json.load(fh)\n",
    "\n"
   ]
  },
  {
   "cell_type": "code",
   "execution_count": 9,
   "metadata": {
    "scrolled": true
   },
   "outputs": [
    {
     "data": {
      "text/plain": [
       "{'account': {'condition': 'and',\n",
       "  'rules': [{'field': 'age', 'operator': '<=', 'entity': 'physical'},\n",
       "   {'field': 'birthday',\n",
       "    'operator': '=',\n",
       "    'value': '2020-04-06T12:23:29.201Z',\n",
       "    'entity': 'nonphysical'},\n",
       "   {'condition': 'or',\n",
       "    'rules': [{'field': 'gender', 'operator': '=', 'entity': 'physical'},\n",
       "     {'field': 'occupation', 'operator': 'in', 'entity': 'nonphysical'},\n",
       "     {'field': 'school', 'operator': 'is null', 'entity': 'nonphysical'},\n",
       "     {'field': 'notes', 'operator': '=', 'entity': 'nonphysical'},\n",
       "     {'condition': 'and', 'rules': []}]}]},\n",
       " 'customer': {'condition': 'and',\n",
       "  'rules': [{'field': 'age', 'operator': '<=', 'entity': 'physical'},\n",
       "   {'field': 'birthday',\n",
       "    'operator': '=',\n",
       "    'value': '2020-04-06T12:23:29.201Z',\n",
       "    'entity': 'nonphysical'},\n",
       "   {'condition': 'or',\n",
       "    'rules': [{'field': 'gender', 'operator': '=', 'entity': 'physical'},\n",
       "     {'field': 'occupation', 'operator': 'in', 'entity': 'nonphysical'},\n",
       "     {'field': 'school', 'operator': 'is null', 'entity': 'nonphysical'},\n",
       "     {'field': 'notes', 'operator': '=', 'entity': 'nonphysical'},\n",
       "     {'condition': 'and', 'rules': []}]}]}}"
      ]
     },
     "execution_count": 9,
     "metadata": {},
     "output_type": "execute_result"
    }
   ],
   "source": [
    "data"
   ]
  },
  {
   "cell_type": "code",
   "execution_count": null,
   "metadata": {},
   "outputs": [
    {
     "name": "stdout",
     "output_type": "stream",
     "text": [
      "['condition', 'rules']\n",
      "hi\n",
      "['condition', 'rules']\n",
      "hi\n"
     ]
    }
   ],
   "source": [
    "for table in list(data.keys()):\n",
    "#    print(table)\n",
    "    \n",
    "    temp = data[table]\n",
    "    \n",
    "    \n",
    "    while \"condition\" in list(temp.keys()):\n",
    "        if len(list(temp[\"rules\"]))>0:\n",
    "            \n",
    "            print(list(temp[\"rules\"][-1].keys()))\n",
    "            \n",
    "            if \"condition\" in list(temp[\"rules\"][-1].keys()):\n",
    "                print(\"hi\")\n",
    "                temp = temp['rules'][-1]\n",
    "            else:\n",
    "                print(\"out\")\n",
    "        \n",
    "    \n",
    "\"\"\"    while \"condition\" in list(sub.keys()) and len(sub[\"rules\"])!=0:\n",
    "        \n",
    "        if \"condition\"in list(sub[\"rules\"][-1].keys()):\n",
    "            print(\"yes\")\n",
    "        else:\n",
    "            break\"\"\""
   ]
  },
  {
   "cell_type": "code",
   "execution_count": null,
   "metadata": {},
   "outputs": [],
   "source": []
  },
  {
   "cell_type": "code",
   "execution_count": null,
   "metadata": {},
   "outputs": [],
   "source": []
  },
  {
   "cell_type": "code",
   "execution_count": null,
   "metadata": {},
   "outputs": [],
   "source": []
  }
 ],
 "metadata": {
  "kernelspec": {
   "display_name": "Python 3",
   "language": "python",
   "name": "python3"
  },
  "language_info": {
   "codemirror_mode": {
    "name": "ipython",
    "version": 3
   },
   "file_extension": ".py",
   "mimetype": "text/x-python",
   "name": "python",
   "nbconvert_exporter": "python",
   "pygments_lexer": "ipython3",
   "version": "3.7.4"
  }
 },
 "nbformat": 4,
 "nbformat_minor": 2
}
